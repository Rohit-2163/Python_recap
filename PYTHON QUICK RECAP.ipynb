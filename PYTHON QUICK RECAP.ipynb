{
 "cells": [
  {
   "cell_type": "markdown",
   "id": "e0e09d1c",
   "metadata": {},
   "source": [
    "# PYTHON  "
   ]
  },
  {
   "cell_type": "markdown",
   "id": "f839cd0b",
   "metadata": {},
   "source": [
    "# DATA STRUCTURES AND SEQUENCES"
   ]
  },
  {
   "cell_type": "markdown",
   "id": "71ae0534",
   "metadata": {},
   "source": [
    "## TUPLE"
   ]
  },
  {
   "cell_type": "code",
   "execution_count": 1,
   "id": "8f2a2f47",
   "metadata": {},
   "outputs": [],
   "source": [
    "#tuple is fixed length , immmutable sequence of python objects\n",
    "#easiest way to create one is with comma - sepearted sequence of values\n",
    "tup=4,5,6 "
   ]
  },
  {
   "cell_type": "code",
   "execution_count": 2,
   "id": "c10cb543",
   "metadata": {},
   "outputs": [
    {
     "data": {
      "text/plain": [
       "(4, 5, 6)"
      ]
     },
     "execution_count": 2,
     "metadata": {},
     "output_type": "execute_result"
    }
   ],
   "source": [
    "tup"
   ]
  },
  {
   "cell_type": "code",
   "execution_count": 3,
   "id": "6344dab9",
   "metadata": {},
   "outputs": [
    {
     "data": {
      "text/plain": [
       "((4, 5, 6), (7, 8))"
      ]
     },
     "execution_count": 3,
     "metadata": {},
     "output_type": "execute_result"
    }
   ],
   "source": [
    "nested_tup=(4,5,6),(7,8)\n",
    "nested_tup"
   ]
  },
  {
   "cell_type": "code",
   "execution_count": 4,
   "id": "8c6e0305",
   "metadata": {},
   "outputs": [
    {
     "data": {
      "text/plain": [
       "(4, 0, 2)"
      ]
     },
     "execution_count": 4,
     "metadata": {},
     "output_type": "execute_result"
    }
   ],
   "source": [
    "#converting any sequence or iterator to a tuple by using ---tuple function---\n",
    "\n",
    "tuple([4,0,2])"
   ]
  },
  {
   "cell_type": "code",
   "execution_count": 5,
   "id": "cab31529",
   "metadata": {},
   "outputs": [
    {
     "data": {
      "text/plain": [
       "('s', 't', 'r', 'i', 'n', 'g')"
      ]
     },
     "execution_count": 5,
     "metadata": {},
     "output_type": "execute_result"
    }
   ],
   "source": [
    "stup=tuple('string')\n",
    "stup"
   ]
  },
  {
   "cell_type": "code",
   "execution_count": 6,
   "id": "4466fc35",
   "metadata": {},
   "outputs": [
    {
     "data": {
      "text/plain": [
       "'s'"
      ]
     },
     "execution_count": 6,
     "metadata": {},
     "output_type": "execute_result"
    }
   ],
   "source": [
    "#Acessing the Tuples using square brackets [] as with most other sequence \n",
    "\n",
    "stup[0]"
   ]
  },
  {
   "cell_type": "code",
   "execution_count": 7,
   "id": "30dc08c7",
   "metadata": {},
   "outputs": [],
   "source": [
    "#Tuples are immutable \n",
    "\n",
    "rtup=tuple(['foo',[1,2],True])"
   ]
  },
  {
   "cell_type": "code",
   "execution_count": 8,
   "id": "da01841d",
   "metadata": {},
   "outputs": [],
   "source": [
    "# rtup[2]=False    #uncomment to run this section"
   ]
  },
  {
   "cell_type": "code",
   "execution_count": 9,
   "id": "85d75acf",
   "metadata": {},
   "outputs": [
    {
     "name": "stdout",
     "output_type": "stream",
     "text": [
      "rtup without appending element 3  ('foo', [1, 2], True)\n"
     ]
    }
   ],
   "source": [
    "#If an object inside a tuple is mutable, such as a list,\n",
    "#you can modify it in-place:\n",
    "print(\"rtup without appending element 3 \",rtup)"
   ]
  },
  {
   "cell_type": "code",
   "execution_count": 10,
   "id": "157ac67d",
   "metadata": {},
   "outputs": [],
   "source": [
    "rtup[1].append(3)\n",
    "rtup"
   ]
  },
  {
   "cell_type": "code",
   "execution_count": 11,
   "id": "ed5756c5",
   "metadata": {},
   "outputs": [
    {
     "data": {
      "text/plain": [
       "(4, None, 'foo', 6, 0, 'bar')"
      ]
     },
     "execution_count": 11,
     "metadata": {},
     "output_type": "execute_result"
    }
   ],
   "source": [
    "# You can concatenate tuples using the + operator to produce longer tuples:\n",
    "(4, None, 'foo') + (6, 0) + ('bar',)"
   ]
  },
  {
   "cell_type": "code",
   "execution_count": 12,
   "id": "56b195c7",
   "metadata": {},
   "outputs": [
    {
     "data": {
      "text/plain": [
       "('foo', 'bar', 'foo', 'bar', 'foo', 'bar', 'foo', 'bar')"
      ]
     },
     "execution_count": 12,
     "metadata": {},
     "output_type": "execute_result"
    }
   ],
   "source": [
    "# Multiplying a tuple by an integer, as with lists, \n",
    "# has the effect of concatenating together\n",
    "# that many copies of the tuple:\n",
    "('foo', 'bar') * 4\n"
   ]
  },
  {
   "cell_type": "markdown",
   "id": "8932747d",
   "metadata": {},
   "source": [
    "## Unpacking Tuples"
   ]
  },
  {
   "cell_type": "code",
   "execution_count": 13,
   "id": "fc331ca0",
   "metadata": {},
   "outputs": [],
   "source": [
    "# If you try to assign to a tuple-like expression of variables, \n",
    "# Python will attempt to\n",
    "# unpack the value on the righthand side of the equals sign:\n",
    "\n",
    "tup1=(4,5,6)\n",
    "a,b,c=tup\n"
   ]
  },
  {
   "cell_type": "code",
   "execution_count": 14,
   "id": "612fc14c",
   "metadata": {},
   "outputs": [
    {
     "name": "stdout",
     "output_type": "stream",
     "text": [
      "Value of a :  4\n",
      "Value of b :  5\n",
      "Value of c :  6\n"
     ]
    }
   ],
   "source": [
    "print(\"Value of a : \",a)\n",
    "print(\"Value of b : \",b)\n",
    "print(\"Value of c : \",c)"
   ]
  },
  {
   "cell_type": "markdown",
   "id": "0bcbe316",
   "metadata": {},
   "source": [
    "## Swaping in python"
   ]
  },
  {
   "cell_type": "markdown",
   "id": "8f84d0db",
   "metadata": {},
   "source": [
    "### Standard Swap with variable"
   ]
  },
  {
   "cell_type": "code",
   "execution_count": 15,
   "id": "11709341",
   "metadata": {},
   "outputs": [
    {
     "name": "stdout",
     "output_type": "stream",
     "text": [
      "Value of a :  4\n",
      "Value of b :  5\n",
      "After swap\n",
      "\n",
      "Value of a :  5\n",
      "Value of b :  4\n"
     ]
    }
   ],
   "source": [
    "print(\"Value of a : \",a)\n",
    "print(\"Value of b : \",b)\n",
    "\n",
    "tmp = a\n",
    "a = b\n",
    "b = tmp\n",
    "print(\"After swap\\n\")\n",
    "print(\"Value of a : \",a)\n",
    "print(\"Value of b : \",b)"
   ]
  },
  {
   "cell_type": "markdown",
   "id": "d9f2c947",
   "metadata": {},
   "source": [
    "### Swap in Python"
   ]
  },
  {
   "cell_type": "code",
   "execution_count": 16,
   "id": "95f6cbeb",
   "metadata": {},
   "outputs": [
    {
     "name": "stdout",
     "output_type": "stream",
     "text": [
      "After swap\n",
      "\n",
      "Value of a :  4\n",
      "Value of b :  5\n"
     ]
    }
   ],
   "source": [
    "a , b = b , a \n",
    "print(\"After swap\\n\")\n",
    "print(\"Value of a : \",a)\n",
    "print(\"Value of b : \",b)"
   ]
  },
  {
   "cell_type": "code",
   "execution_count": 17,
   "id": "c5d55ae3",
   "metadata": {},
   "outputs": [
    {
     "name": "stdout",
     "output_type": "stream",
     "text": [
      "a=1,b=2,c=3\n",
      "a=4,b=5,c=6\n",
      "a=7,b=8,c=9\n"
     ]
    }
   ],
   "source": [
    "# A common use of variable unpacking is \n",
    "# iterating over sequences of tuples or lists\n",
    "\n",
    "seq = [(1, 2, 3), (4, 5, 6), (7, 8, 9)]\n",
    "for a , b , c in seq:\n",
    "    print('a={0},b={1},c={2}'.format(a,b,c))\n",
    "    "
   ]
  },
  {
   "cell_type": "code",
   "execution_count": 18,
   "id": "ff71ee05",
   "metadata": {},
   "outputs": [
    {
     "name": "stdout",
     "output_type": "stream",
     "text": [
      "Value of a :  1\n",
      "Value of b :  2\n",
      "remaining converted into list named rest :  3 4 5\n",
      "Type of rets is  :  <class 'list'>\n"
     ]
    }
   ],
   "source": [
    "values =1,2,3,4,5\n",
    "a, b, *rest =values\n",
    "print(\"Value of a : \",a)\n",
    "print(\"Value of b : \",b)\n",
    "print(\"remaining converted into list named rest : \",*rest)\n",
    "print(\"Type of rets is  : \",type(rest))"
   ]
  },
  {
   "cell_type": "code",
   "execution_count": 19,
   "id": "5abb2c51",
   "metadata": {},
   "outputs": [],
   "source": [
    "#standard syntax\n",
    "a , b , *_=values"
   ]
  },
  {
   "cell_type": "code",
   "execution_count": 20,
   "id": "668f46f5",
   "metadata": {},
   "outputs": [
    {
     "name": "stdout",
     "output_type": "stream",
     "text": [
      "Value of a :  1\n",
      "Value of b :  2\n",
      "remaining converted into list named _ :  3 4 5\n"
     ]
    }
   ],
   "source": [
    "print(\"Value of a : \",a)\n",
    "print(\"Value of b : \",b)\n",
    "print(\"remaining converted into list named _ : \",*_)"
   ]
  },
  {
   "cell_type": "markdown",
   "id": "5aac568c",
   "metadata": {},
   "source": [
    "## Tuple Methods"
   ]
  },
  {
   "cell_type": "code",
   "execution_count": 21,
   "id": "12812156",
   "metadata": {},
   "outputs": [
    {
     "data": {
      "text/plain": [
       "4"
      ]
     },
     "execution_count": 21,
     "metadata": {},
     "output_type": "execute_result"
    }
   ],
   "source": [
    "#widely used method is count \n",
    "# A particularly useful one (also available on lists) is count,  \n",
    "# which counts the\n",
    "# number of occurrences of a value:\n",
    "a = (1, 2, 2, 2, 3, 4, 2)\n",
    "a.count(2)"
   ]
  },
  {
   "cell_type": "markdown",
   "id": "230518da",
   "metadata": {},
   "source": [
    "## LIST"
   ]
  },
  {
   "cell_type": "code",
   "execution_count": 22,
   "id": "0630888c",
   "metadata": {},
   "outputs": [
    {
     "name": "stdout",
     "output_type": "stream",
     "text": [
      "a_list :  [2, 3, 7, None]\n",
      "b_list :  ['foo', 'bar', 'baz']\n"
     ]
    }
   ],
   "source": [
    "# lists are variable-length and their contents can be modified in-place. \n",
    "# You can define them using square brackets [] or using the list type function\n",
    "\n",
    "a_list = [2, 3, 7, None]\n",
    "\n",
    "# creating tuple\n",
    "tup = ('foo', 'bar', 'baz')\n",
    "# converting creted tuple into list\n",
    "b_list = list(tup)\n",
    "\n",
    "print(\"a_list : \",a_list)\n",
    "print(\"b_list : \",b_list)"
   ]
  },
  {
   "cell_type": "code",
   "execution_count": 23,
   "id": "ce9e2473",
   "metadata": {},
   "outputs": [
    {
     "name": "stdout",
     "output_type": "stream",
     "text": [
      "After modification b_list :  ['foo', 'peekaboo', 'baz']\n"
     ]
    }
   ],
   "source": [
    "#Changing / modifiying elements of a list\n",
    "\n",
    "b_list[1]='peekaboo'\n",
    "print(\"After modification b_list : \", b_list)"
   ]
  },
  {
   "cell_type": "code",
   "execution_count": 24,
   "id": "28eb1657",
   "metadata": {},
   "outputs": [],
   "source": [
    "# The list function is frequently used in data processing as a way \n",
    "# to materialize an iterator or generator expression\n",
    "gen = range(10)"
   ]
  },
  {
   "cell_type": "code",
   "execution_count": 25,
   "id": "3d15a916",
   "metadata": {},
   "outputs": [
    {
     "data": {
      "text/plain": [
       "range(0, 10)"
      ]
     },
     "execution_count": 25,
     "metadata": {},
     "output_type": "execute_result"
    }
   ],
   "source": [
    "gen"
   ]
  },
  {
   "cell_type": "code",
   "execution_count": 26,
   "id": "e26380d3",
   "metadata": {},
   "outputs": [
    {
     "data": {
      "text/plain": [
       "[0, 1, 2, 3, 4, 5, 6, 7, 8, 9]"
      ]
     },
     "execution_count": 26,
     "metadata": {},
     "output_type": "execute_result"
    }
   ],
   "source": [
    "list(gen)"
   ]
  },
  {
   "cell_type": "markdown",
   "id": "c9f5b048",
   "metadata": {},
   "source": [
    "### Adding and Removing elements "
   ]
  },
  {
   "cell_type": "code",
   "execution_count": 27,
   "id": "93615014",
   "metadata": {},
   "outputs": [
    {
     "name": "stdout",
     "output_type": "stream",
     "text": [
      "after appending element in b_list :  ['foo', 'peekaboo', 'baz', 'dwarf']\n"
     ]
    }
   ],
   "source": [
    "# Elements can be appended to the end of the list with the append method:\n",
    "b_list.append('dwarf')\n",
    "print(\"after appending element in b_list : \",b_list)"
   ]
  },
  {
   "cell_type": "code",
   "execution_count": 28,
   "id": "05951eff",
   "metadata": {},
   "outputs": [
    {
     "name": "stdout",
     "output_type": "stream",
     "text": [
      "after inserting element in b_list :  ['foo', 'red', 'peekaboo', 'baz', 'dwarf']\n"
     ]
    }
   ],
   "source": [
    "# Using insert you can insert an element at a specific location in the list\n",
    "# The insertion index must be between 0 and the length of the list, inclusive.\n",
    "\n",
    "b_list.insert(1,'red')  #insert element at index 1 syntax insert(index,element)\n",
    "print(\"after inserting element in b_list : \",b_list)"
   ]
  },
  {
   "cell_type": "code",
   "execution_count": 29,
   "id": "0b9737a0",
   "metadata": {},
   "outputs": [
    {
     "data": {
      "text/plain": [
       "'peekaboo'"
      ]
     },
     "execution_count": 29,
     "metadata": {},
     "output_type": "execute_result"
    }
   ],
   "source": [
    "# The inverse operation to insert is pop, \n",
    "# which removes and returns an element at a particular index\n",
    "\n",
    "b_list.pop(2)"
   ]
  },
  {
   "cell_type": "code",
   "execution_count": 30,
   "id": "57fa0fc9",
   "metadata": {},
   "outputs": [
    {
     "data": {
      "text/plain": [
       "['foo', 'red', 'baz', 'dwarf']"
      ]
     },
     "execution_count": 30,
     "metadata": {},
     "output_type": "execute_result"
    }
   ],
   "source": [
    "b_list"
   ]
  },
  {
   "cell_type": "code",
   "execution_count": 31,
   "id": "b6c0bc37",
   "metadata": {},
   "outputs": [
    {
     "name": "stdout",
     "output_type": "stream",
     "text": [
      "after appending foo in b_list  ['foo', 'red', 'baz', 'dwarf', 'foo']\n",
      "after using remove fundtion for foo in b_list  ['red', 'baz', 'dwarf', 'foo']\n"
     ]
    }
   ],
   "source": [
    "# Elements can be removed by value with remove, \n",
    "# which locates the first such value and removes it \n",
    "b_list.append('foo')\n",
    "print(\"after appending foo in b_list \" , b_list)\n",
    "\n",
    "b_list.remove('foo')\n",
    "print(\"after using remove fundtion for foo in b_list \" , b_list)\n"
   ]
  },
  {
   "cell_type": "code",
   "execution_count": 32,
   "id": "f9472284",
   "metadata": {},
   "outputs": [
    {
     "data": {
      "text/plain": [
       "True"
      ]
     },
     "execution_count": 32,
     "metadata": {},
     "output_type": "execute_result"
    }
   ],
   "source": [
    "# Check if a list contains a value using the < in > keyword\n",
    "'dwarf' in b_list"
   ]
  },
  {
   "cell_type": "code",
   "execution_count": 33,
   "id": "630d4449",
   "metadata": {},
   "outputs": [
    {
     "data": {
      "text/plain": [
       "False"
      ]
     },
     "execution_count": 33,
     "metadata": {},
     "output_type": "execute_result"
    }
   ],
   "source": [
    "'dwarf' not in b_list  # negation of < in > is < not in >"
   ]
  },
  {
   "cell_type": "markdown",
   "id": "4a721426",
   "metadata": {},
   "source": [
    "### Concatatnation and combinig lists"
   ]
  },
  {
   "cell_type": "code",
   "execution_count": 34,
   "id": "e6664748",
   "metadata": {},
   "outputs": [
    {
     "data": {
      "text/plain": [
       "[4, None, 'foo', 7, 8, (2, 3)]"
      ]
     },
     "execution_count": 34,
     "metadata": {},
     "output_type": "execute_result"
    }
   ],
   "source": [
    "# adding two lists together with + concatenates them\n",
    "[4, None, 'foo'] + [7, 8, (2, 3)]"
   ]
  },
  {
   "cell_type": "code",
   "execution_count": 35,
   "id": "a838a856",
   "metadata": {},
   "outputs": [
    {
     "name": "stdout",
     "output_type": "stream",
     "text": [
      "List x :  [4, None, 'foo']\n",
      "List x after using extend function/method :  [4, None, 'foo', 7, 8, (2, 3)]\n"
     ]
    }
   ],
   "source": [
    "# a list already defined, you can append multiple elements to it using the\n",
    "# extend method\n",
    "x = [4, None, 'foo']\n",
    "print(\"List x : \",x)\n",
    "\n",
    "x.extend([7, 8, (2, 3)])\n",
    "print(\"List x after using extend function/method : \", x)\n",
    "\n"
   ]
  },
  {
   "cell_type": "markdown",
   "id": "484fbd2f",
   "metadata": {},
   "source": [
    "### Sorting "
   ]
  },
  {
   "cell_type": "code",
   "execution_count": 36,
   "id": "5bb2fcbb",
   "metadata": {},
   "outputs": [
    {
     "name": "stdout",
     "output_type": "stream",
     "text": [
      "Sorted list a :  [1, 2, 3, 5, 7]\n"
     ]
    }
   ],
   "source": [
    "# you can sort a list in-place (without creating a new object) by calling \n",
    "# its sort function\n",
    "\n",
    "a = [7,2,5,1,3]\n",
    "\n",
    "a.sort()\n",
    "\n",
    "print(\"Sorted list a : \",a)"
   ]
  },
  {
   "cell_type": "code",
   "execution_count": 37,
   "id": "5ff6ac2a",
   "metadata": {},
   "outputs": [
    {
     "data": {
      "text/plain": [
       "['He', 'saw', 'six', 'small', 'foxes']"
      ]
     },
     "execution_count": 37,
     "metadata": {},
     "output_type": "execute_result"
    }
   ],
   "source": [
    "# sort has a few options that will ocassionally come in handy.\n",
    "# one is the ability to pass a secondary sort key that is a \n",
    "# function that produces a value to use to sort the objects\n",
    "\n",
    "b=['saw','small','He','foxes','six']\n",
    "\n",
    "b.sort(key=len) #list is sorted on the bases of their length  \n",
    "\n",
    "b"
   ]
  },
  {
   "cell_type": "markdown",
   "id": "d10a7600",
   "metadata": {},
   "source": [
    "### Binary search and maintaining a sorted list"
   ]
  },
  {
   "cell_type": "markdown",
   "id": "1daaa4ee",
   "metadata": {},
   "source": [
    "#### The built-in bisect module implements binary sercah and insertion into a sorted list bisect.bisect finds the location where an element should be inserted to keep it sorted,  while bisect.insort actually  insert  the element into the  location"
   ]
  },
  {
   "cell_type": "code",
   "execution_count": 38,
   "id": "09a2e61a",
   "metadata": {},
   "outputs": [],
   "source": [
    "import bisect"
   ]
  },
  {
   "cell_type": "code",
   "execution_count": 39,
   "id": "46a439fa",
   "metadata": {},
   "outputs": [],
   "source": [
    "c=[1,2,2,2,3,4,7]"
   ]
  },
  {
   "cell_type": "code",
   "execution_count": 40,
   "id": "2d1a5737",
   "metadata": {},
   "outputs": [
    {
     "data": {
      "text/plain": [
       "4"
      ]
     },
     "execution_count": 40,
     "metadata": {},
     "output_type": "execute_result"
    }
   ],
   "source": [
    "bisect.bisect(c,2)  #gives the index where 2 must be inserted in list c"
   ]
  },
  {
   "cell_type": "code",
   "execution_count": 41,
   "id": "25686206",
   "metadata": {},
   "outputs": [
    {
     "data": {
      "text/plain": [
       "6"
      ]
     },
     "execution_count": 41,
     "metadata": {},
     "output_type": "execute_result"
    }
   ],
   "source": [
    "bisect.bisect(c,5)"
   ]
  },
  {
   "cell_type": "code",
   "execution_count": 42,
   "id": "e46c4dd4",
   "metadata": {},
   "outputs": [
    {
     "name": "stdout",
     "output_type": "stream",
     "text": [
      "[1, 2, 2, 2, 3, 4, 6, 7]\n"
     ]
    }
   ],
   "source": [
    "bisect.insort(c,6)  # this will insert the 6 at its correct place  in list c\n",
    "print(c)"
   ]
  },
  {
   "cell_type": "markdown",
   "id": "73b485be",
   "metadata": {},
   "source": [
    "### Slicing"
   ]
  },
  {
   "attachments": {
    "list%20indexing%20py.png": {
     "image/png": "[encoded data removed]"
    }
   },
   "cell_type": "markdown",
   "id": "87622170",
   "metadata": {},
   "source": [
    "![list%20indexing%20py.png](attachment:list%20indexing%20py.png)"
   ]
  },
  {
   "cell_type": "code",
   "execution_count": 43,
   "id": "3c575e3e",
   "metadata": {},
   "outputs": [],
   "source": [
    "seq =[7,2,3,7,5,6,0,1]"
   ]
  },
  {
   "cell_type": "code",
   "execution_count": 44,
   "id": "66494c7c",
   "metadata": {},
   "outputs": [
    {
     "data": {
      "text/plain": [
       "[2, 3, 7, 5]"
      ]
     },
     "execution_count": 44,
     "metadata": {},
     "output_type": "execute_result"
    }
   ],
   "source": [
    "seq[1:5]"
   ]
  },
  {
   "cell_type": "code",
   "execution_count": 45,
   "id": "cddbfa6c",
   "metadata": {},
   "outputs": [
    {
     "data": {
      "text/plain": [
       "[7, 2, 3, 6, 3, 5, 6, 0, 1]"
      ]
     },
     "execution_count": 45,
     "metadata": {},
     "output_type": "execute_result"
    }
   ],
   "source": [
    "# Slices can also be assigned to with a sequence\n",
    "seq[3:4]=[6,3]\n",
    "seq"
   ]
  },
  {
   "attachments": {
    "indexing%202.png": {
     "image/png": "[encoded data removed]"
    }
   },
   "cell_type": "markdown",
   "id": "b4a5c040",
   "metadata": {},
   "source": [
    "![indexing%202.png](attachment:indexing%202.png)"
   ]
  },
  {
   "cell_type": "code",
   "execution_count": 46,
   "id": "4ad1eeeb",
   "metadata": {},
   "outputs": [
    {
     "data": {
      "text/plain": [
       "[7, 2, 3, 6, 3]"
      ]
     },
     "execution_count": 46,
     "metadata": {},
     "output_type": "execute_result"
    }
   ],
   "source": [
    "seq[:5]"
   ]
  },
  {
   "cell_type": "code",
   "execution_count": 47,
   "id": "07923ac3",
   "metadata": {},
   "outputs": [
    {
     "data": {
      "text/plain": [
       "[6, 3, 5, 6, 0, 1]"
      ]
     },
     "execution_count": 47,
     "metadata": {},
     "output_type": "execute_result"
    }
   ],
   "source": [
    "seq[3:]"
   ]
  },
  {
   "cell_type": "code",
   "execution_count": 48,
   "id": "12603726",
   "metadata": {},
   "outputs": [
    {
     "data": {
      "text/plain": [
       "[5, 6, 0, 1]"
      ]
     },
     "execution_count": 48,
     "metadata": {},
     "output_type": "execute_result"
    }
   ],
   "source": [
    "seq[-4:]"
   ]
  },
  {
   "cell_type": "code",
   "execution_count": 49,
   "id": "99efc39a",
   "metadata": {},
   "outputs": [
    {
     "data": {
      "text/plain": [
       "[6, 3, 5, 6]"
      ]
     },
     "execution_count": 49,
     "metadata": {},
     "output_type": "execute_result"
    }
   ],
   "source": [
    "seq[-6:-2]"
   ]
  },
  {
   "cell_type": "code",
   "execution_count": 50,
   "id": "b9c55232",
   "metadata": {},
   "outputs": [
    {
     "data": {
      "text/plain": [
       "[7, 3, 3, 6, 1]"
      ]
     },
     "execution_count": 50,
     "metadata": {},
     "output_type": "execute_result"
    }
   ],
   "source": [
    "#A step can also be used after a second colon to, say, take every other element\n",
    "\n",
    "seq[::2]"
   ]
  },
  {
   "cell_type": "code",
   "execution_count": 51,
   "id": "f4f51d87",
   "metadata": {},
   "outputs": [
    {
     "data": {
      "text/plain": [
       "[1, 0, 6, 5, 3, 6, 3, 2, 7]"
      ]
     },
     "execution_count": 51,
     "metadata": {},
     "output_type": "execute_result"
    }
   ],
   "source": [
    "# A clever use of this is to pass -1, \n",
    "# which has the useful effect of reversing a list or tuple\n",
    "\n",
    "seq[::-1]"
   ]
  },
  {
   "attachments": {
    "slicing%20example.png": {
     "image/png": "[encoded data removed]"
    }
   },
   "cell_type": "markdown",
   "id": "a01669a4",
   "metadata": {},
   "source": [
    "## Slicing Example\n",
    "![slicing%20example.png](attachment:slicing%20example.png)"
   ]
  },
  {
   "cell_type": "markdown",
   "id": "08226539",
   "metadata": {},
   "source": [
    "## Built-in Sequence Function"
   ]
  },
  {
   "cell_type": "markdown",
   "id": "c54a0ae5",
   "metadata": {},
   "source": [
    "### Enumerate\n",
    "#### Python  has a built-in function , enumerate  , which returns a sequence  of (i, value) tuples:\n"
   ]
  },
  {
   "cell_type": "code",
   "execution_count": 52,
   "id": "5c2abad1",
   "metadata": {},
   "outputs": [],
   "source": [
    "#syntax: \n",
    "    # for i , value in enumerate(collection):\n",
    "         # do something with value"
   ]
  },
  {
   "cell_type": "code",
   "execution_count": 53,
   "id": "39e9ffa5",
   "metadata": {},
   "outputs": [],
   "source": [
    "some_list=['foo','bar','baz']"
   ]
  },
  {
   "cell_type": "code",
   "execution_count": 54,
   "id": "7b41137d",
   "metadata": {},
   "outputs": [],
   "source": [
    "mapping={}                     #creating empty dictionary"
   ]
  },
  {
   "cell_type": "code",
   "execution_count": 55,
   "id": "ce1d0954",
   "metadata": {},
   "outputs": [],
   "source": [
    "for i , v in enumerate(some_list):\n",
    "    mapping[v]=i"
   ]
  },
  {
   "cell_type": "code",
   "execution_count": 56,
   "id": "6f6d76f6",
   "metadata": {},
   "outputs": [
    {
     "data": {
      "text/plain": [
       "{'foo': 0, 'bar': 1, 'baz': 2}"
      ]
     },
     "execution_count": 56,
     "metadata": {},
     "output_type": "execute_result"
    }
   ],
   "source": [
    "mapping"
   ]
  },
  {
   "cell_type": "markdown",
   "id": "c8792833",
   "metadata": {},
   "source": [
    "### SORTED"
   ]
  },
  {
   "cell_type": "code",
   "execution_count": 57,
   "id": "7c3ce6db",
   "metadata": {},
   "outputs": [
    {
     "data": {
      "text/plain": [
       "[0, 1, 2, 2, 3, 6, 7]"
      ]
     },
     "execution_count": 57,
     "metadata": {},
     "output_type": "execute_result"
    }
   ],
   "source": [
    "sorted([7,1,2,6,0,3,2])"
   ]
  },
  {
   "cell_type": "code",
   "execution_count": 58,
   "id": "13e7a03b",
   "metadata": {},
   "outputs": [
    {
     "data": {
      "text/plain": [
       "[' ', 'a', 'c', 'e', 'e', 'h', 'o', 'r', 'r', 's']"
      ]
     },
     "execution_count": 58,
     "metadata": {},
     "output_type": "execute_result"
    }
   ],
   "source": [
    "sorted('horse race')"
   ]
  },
  {
   "cell_type": "markdown",
   "id": "c4cc62a5",
   "metadata": {},
   "source": [
    "## ZIP"
   ]
  },
  {
   "cell_type": "markdown",
   "id": "c4ffe145",
   "metadata": {},
   "source": [
    "### zip “pairs” up the elements of a number of lists, tuples, or other sequences to create a list of tuples:"
   ]
  },
  {
   "cell_type": "code",
   "execution_count": 59,
   "id": "ae1807ab",
   "metadata": {},
   "outputs": [],
   "source": [
    "seq1 =['foo','bar','baz']"
   ]
  },
  {
   "cell_type": "code",
   "execution_count": 60,
   "id": "146b9ea9",
   "metadata": {},
   "outputs": [],
   "source": [
    "seq2=['one','two','three']"
   ]
  },
  {
   "cell_type": "code",
   "execution_count": 61,
   "id": "c07368e3",
   "metadata": {},
   "outputs": [],
   "source": [
    "zipped=zip(seq1,seq2)"
   ]
  },
  {
   "cell_type": "code",
   "execution_count": 62,
   "id": "0d26a470",
   "metadata": {},
   "outputs": [
    {
     "data": {
      "text/plain": [
       "[('foo', 'one'), ('bar', 'two'), ('baz', 'three')]"
      ]
     },
     "execution_count": 62,
     "metadata": {},
     "output_type": "execute_result"
    }
   ],
   "source": [
    "list(zipped)"
   ]
  },
  {
   "cell_type": "code",
   "execution_count": 63,
   "id": "c6733d8a",
   "metadata": {},
   "outputs": [
    {
     "data": {
      "text/plain": [
       "[('foo', 'one', True), ('bar', 'two', False)]"
      ]
     },
     "execution_count": 63,
     "metadata": {},
     "output_type": "execute_result"
    }
   ],
   "source": [
    "'''\n",
    "zip can take an arbitrary number of sequences, \n",
    "and the number of elements it produces \n",
    "is determined by the shortest sequence\n",
    "'''\n",
    "seq3=[True,False]\n",
    "list(zip(seq1,seq2,seq3))"
   ]
  },
  {
   "cell_type": "code",
   "execution_count": 64,
   "id": "3b3078da",
   "metadata": {},
   "outputs": [
    {
     "name": "stdout",
     "output_type": "stream",
     "text": [
      "first_names :  ('nolan', 'Roger', 'Schilling')\n",
      "last_names :  ('ryan', 'clemens', 'Curt')\n"
     ]
    }
   ],
   "source": [
    "'''\n",
    "“zipped” sequence, zip can be applied in a clever way to “unzip” the\n",
    "sequence.\n",
    "'''\n",
    "pitchers=[('nolan','ryan'),('Roger','clemens'),('Schilling','Curt')]\n",
    "\n",
    "first_names , last_names=zip(*pitchers)\n",
    "print(\"first_names : \",first_names)\n",
    "print(\"last_names : \",last_names)"
   ]
  },
  {
   "cell_type": "markdown",
   "id": "164dde0c",
   "metadata": {},
   "source": [
    "## DICTIONARY dict"
   ]
  },
  {
   "cell_type": "markdown",
   "id": "4389f408",
   "metadata": {},
   "source": [
    "### dict is likely the most important built-in python data structure . A more common name for it is hash map or associative array. it is a flexible sized collection  of key-value pairs , where key and value are python objects . \n",
    "### One approach for creating one is to use curly braces {} and colons to seperate keys and values:"
   ]
  },
  {
   "cell_type": "code",
   "execution_count": 65,
   "id": "98494e95",
   "metadata": {},
   "outputs": [],
   "source": [
    "empty_dict={}"
   ]
  },
  {
   "cell_type": "code",
   "execution_count": 66,
   "id": "657ccac7",
   "metadata": {},
   "outputs": [
    {
     "name": "stdout",
     "output_type": "stream",
     "text": [
      "d1 :  {'a': 'some_values', 'b': [1, 2, 3, 4]}\n",
      "<class 'dict'>\n"
     ]
    }
   ],
   "source": [
    "d1={'a':'some_values','b':[1,2,3,4]}\n",
    "print(\"d1 : \", d1)\n",
    "print(type(d1))"
   ]
  },
  {
   "cell_type": "markdown",
   "id": "af2e03dc",
   "metadata": {},
   "source": [
    "#### You can access, insert, or set elements using the same syntax as for accessing elements of a list or tuple:"
   ]
  },
  {
   "cell_type": "code",
   "execution_count": 67,
   "id": "e165652b",
   "metadata": {},
   "outputs": [
    {
     "name": "stdout",
     "output_type": "stream",
     "text": [
      "d1 :  {'a': 'some_values', 'b': [1, 2, 3, 4], 7: 'an integer'}\n"
     ]
    }
   ],
   "source": [
    "d1[7]='an integer'  #if key absent it will be added\n",
    "print(\"d1 : \",d1)"
   ]
  },
  {
   "cell_type": "code",
   "execution_count": 68,
   "id": "38a17eb2",
   "metadata": {},
   "outputs": [
    {
     "data": {
      "text/plain": [
       "[1, 2, 3, 4]"
      ]
     },
     "execution_count": 68,
     "metadata": {},
     "output_type": "execute_result"
    }
   ],
   "source": [
    "d1['b'] #if key is present corresponding value will be shown"
   ]
  },
  {
   "cell_type": "markdown",
   "id": "4dc5839f",
   "metadata": {},
   "source": [
    "### You can check if a dict contains a key using the same syntax used for checking whether a list or tuple contains a value"
   ]
  },
  {
   "cell_type": "code",
   "execution_count": 69,
   "id": "79d1ec2a",
   "metadata": {},
   "outputs": [
    {
     "data": {
      "text/plain": [
       "True"
      ]
     },
     "execution_count": 69,
     "metadata": {},
     "output_type": "execute_result"
    }
   ],
   "source": [
    "'b' in d1"
   ]
  },
  {
   "cell_type": "code",
   "execution_count": 70,
   "id": "f780d3a2",
   "metadata": {},
   "outputs": [
    {
     "name": "stdout",
     "output_type": "stream",
     "text": [
      "d1 :  {'a': 'some_values', 'b': [1, 2, 3, 4], 7: 'an integer', 5: 'an_value'}\n"
     ]
    }
   ],
   "source": [
    "d1[5]='an_value'\n",
    "print(\"d1 : \",d1)"
   ]
  },
  {
   "cell_type": "code",
   "execution_count": 71,
   "id": "32cc8b05",
   "metadata": {},
   "outputs": [
    {
     "name": "stdout",
     "output_type": "stream",
     "text": [
      "d1 :  {'a': 'some_values', 'b': [1, 2, 3, 4], 7: 'an integer', 5: 'an_value', 'dummy': 'next_value'}\n"
     ]
    }
   ],
   "source": [
    "d1['dummy']='next_value'\n",
    "print(\"d1 : \",d1)"
   ]
  },
  {
   "cell_type": "code",
   "execution_count": 72,
   "id": "c92b1652",
   "metadata": {},
   "outputs": [
    {
     "name": "stdout",
     "output_type": "stream",
     "text": [
      "after deleting key value pair 5 from d1 \n",
      " {'a': 'some_values', 'b': [1, 2, 3, 4], 7: 'an integer', 'dummy': 'next_value'}\n"
     ]
    }
   ],
   "source": [
    "# Deleting item\n",
    "del d1[5]\n",
    "print(\"after deleting key value pair 5 from d1 \\n\",d1)"
   ]
  },
  {
   "cell_type": "code",
   "execution_count": 73,
   "id": "d5783ab3",
   "metadata": {},
   "outputs": [
    {
     "name": "stdout",
     "output_type": "stream",
     "text": [
      "ret :  next_value\n",
      "after poping key value pair dummy from d1 \n",
      " {'a': 'some_values', 'b': [1, 2, 3, 4], 7: 'an integer'}\n"
     ]
    }
   ],
   "source": [
    "ret=d1.pop('dummy')\n",
    "\n",
    "print(\"ret : \",ret)\n",
    "print(\"after poping key value pair dummy from d1 \\n\",d1)"
   ]
  },
  {
   "cell_type": "markdown",
   "id": "c72b3a91",
   "metadata": {},
   "source": [
    "### The keys and values method give you iterators of the dict’s keys and values, respectively. While the key-value pairs are not in any particular order, these functions output the keys and values in the same order"
   ]
  },
  {
   "cell_type": "code",
   "execution_count": 74,
   "id": "d7654018",
   "metadata": {},
   "outputs": [
    {
     "data": {
      "text/plain": [
       "['a', 'b', 7]"
      ]
     },
     "execution_count": 74,
     "metadata": {},
     "output_type": "execute_result"
    }
   ],
   "source": [
    "list(d1.keys())"
   ]
  },
  {
   "cell_type": "code",
   "execution_count": 75,
   "id": "9fa39db5",
   "metadata": {},
   "outputs": [
    {
     "data": {
      "text/plain": [
       "['some_values', [1, 2, 3, 4], 'an integer']"
      ]
     },
     "execution_count": 75,
     "metadata": {},
     "output_type": "execute_result"
    }
   ],
   "source": [
    "list(d1.values())"
   ]
  },
  {
   "cell_type": "markdown",
   "id": "121149bd",
   "metadata": {},
   "source": [
    "### You can merge one dict into another using the update method"
   ]
  },
  {
   "cell_type": "code",
   "execution_count": 76,
   "id": "aff59e3d",
   "metadata": {},
   "outputs": [
    {
     "name": "stdout",
     "output_type": "stream",
     "text": [
      "d1 :  {'a': 'some_values', 'b': 'foo', 7: 'an integer', 'c': 12}\n"
     ]
    }
   ],
   "source": [
    "'''\n",
    "The update method changes dicts in-place, \n",
    "so any existing keys in the data passed to\n",
    "update will have their old values discarded\n",
    "\n",
    "'''\n",
    "\n",
    "d1.update({'b':'foo','c':12})\n",
    "print(\"d1 : \", d1)"
   ]
  },
  {
   "cell_type": "markdown",
   "id": "a88f8cea",
   "metadata": {},
   "source": [
    "### Creating dicts from sequence"
   ]
  },
  {
   "cell_type": "code",
   "execution_count": 77,
   "id": "4250d6df",
   "metadata": {
    "scrolled": true
   },
   "outputs": [
    {
     "data": {
      "text/plain": [
       "{0: 4, 1: 3, 2: 2, 3: 1, 4: 0}"
      ]
     },
     "execution_count": 77,
     "metadata": {},
     "output_type": "execute_result"
    }
   ],
   "source": [
    "'''\n",
    "mapping1={}\n",
    "\n",
    "for key , value in zip(key_list , value_list):\n",
    "    mapping1[key]=value\n",
    "    \n",
    "'''\n",
    "# a dict is essentially a collection of 2-tuples,\n",
    "# the dict function accepts a list of 2-tuples\n",
    "mapping1=dict(zip(range(5),reversed(range(5))))\n",
    "mapping1"
   ]
  },
  {
   "cell_type": "code",
   "execution_count": 78,
   "id": "b2634529",
   "metadata": {},
   "outputs": [
    {
     "name": "stdout",
     "output_type": "stream",
     "text": [
      "Dictionary created this code  by_letter : \n",
      " {'a': ['apple', 'atom'], 'b': ['bat', 'bar', 'book']}\n"
     ]
    }
   ],
   "source": [
    "# For example, you could imagine categorizing a list of words by their\n",
    "# first letters as a dict of lists\n",
    "words=['apple','bat','bar','atom','book']\n",
    "by_letter={}\n",
    "\n",
    "for word in words:\n",
    "    letter=word[0]\n",
    "    if letter not in by_letter:\n",
    "        by_letter[letter]=[word]\n",
    "    else:\n",
    "        by_letter[letter].append(word)\n",
    "        \n",
    "print(\"Dictionary created this code  by_letter : \\n\",by_letter)"
   ]
  },
  {
   "cell_type": "markdown",
   "id": "07032c9b",
   "metadata": {},
   "source": [
    "### Valid Dict key types\n",
    "#### While the value of a dict  can be any python object , the keys generally have to be immutable objects like saclar types (int , float, string) or tuples (all the objects in the tuples need to be immutable , too).\n",
    "\n",
    "The technical term here is hashability if object is hashable you can use as key in dict(dictionary) "
   ]
  },
  {
   "cell_type": "code",
   "execution_count": 79,
   "id": "bb211bc4",
   "metadata": {},
   "outputs": [
    {
     "data": {
      "text/plain": [
       "8270868088614253094"
      ]
     },
     "execution_count": 79,
     "metadata": {},
     "output_type": "execute_result"
    }
   ],
   "source": [
    "hash('string')  #valid it is hashable"
   ]
  },
  {
   "cell_type": "code",
   "execution_count": 80,
   "id": "1eea1318",
   "metadata": {},
   "outputs": [
    {
     "data": {
      "text/plain": [
       "143933069489119388"
      ]
     },
     "execution_count": 80,
     "metadata": {},
     "output_type": "execute_result"
    }
   ],
   "source": [
    "hash((1,2,3,(2,3))) #nested  tuples are also hashable"
   ]
  },
  {
   "cell_type": "code",
   "execution_count": 81,
   "id": "2f5fbd9a",
   "metadata": {},
   "outputs": [
    {
     "data": {
      "text/plain": [
       "'\\nhash((1,2,[2,3])) #fails because lists are mutable hence they are not hashable\\n'"
      ]
     },
     "execution_count": 81,
     "metadata": {},
     "output_type": "execute_result"
    }
   ],
   "source": [
    "'''\n",
    "hash((1,2,[2,3])) #fails because lists are mutable hence they are not hashable\n",
    "'''"
   ]
  },
  {
   "cell_type": "markdown",
   "id": "9b5b4d56",
   "metadata": {},
   "source": [
    "## SET"
   ]
  },
  {
   "cell_type": "markdown",
   "id": "bb21a316",
   "metadata": {},
   "source": [
    "### A set is unordered collection of unique elements. \n",
    "### A set can be created in two ways via set function\n",
    "### via a set literal with curly braces"
   ]
  },
  {
   "cell_type": "code",
   "execution_count": 82,
   "id": "8331d7c7",
   "metadata": {},
   "outputs": [
    {
     "name": "stdout",
     "output_type": "stream",
     "text": [
      "{1, 2, 3}\n",
      "set1 type is :  <class 'set'>\n"
     ]
    }
   ],
   "source": [
    "# method 1\n",
    "\n",
    "set1=set([2,2,2,1,3,3])\n",
    "print(set1)\n",
    "print(\"set1 type is : \", type(set1))"
   ]
  },
  {
   "cell_type": "code",
   "execution_count": 83,
   "id": "bfabbd49",
   "metadata": {},
   "outputs": [
    {
     "name": "stdout",
     "output_type": "stream",
     "text": [
      "{2, 4, 6}\n",
      "set2 type is :  <class 'set'>\n"
     ]
    }
   ],
   "source": [
    "# method 2\n",
    "set2={2,2,2,2,4,4,4,6,6,6}\n",
    "print(set2)\n",
    "print(\"set2 type is : \", type(set2))\n"
   ]
  },
  {
   "cell_type": "markdown",
   "id": "6ad12c76",
   "metadata": {},
   "source": [
    "### Set support mathematical set operations like union , intersection , difference and symmetric difference"
   ]
  },
  {
   "cell_type": "code",
   "execution_count": 84,
   "id": "16fec042",
   "metadata": {},
   "outputs": [
    {
     "name": "stdout",
     "output_type": "stream",
     "text": [
      "SET a :  {1, 2, 3, 4, 5}\n",
      "SET b :  {3, 4, 5, 6, 7, 8}\n",
      "\n",
      "\n",
      "Result of a union b stored in c : {1, 2, 3, 4, 5, 6, 7, 8}\n",
      "\n",
      "\n",
      "Result of a intersection b stored in d : {3, 4, 5}\n",
      "\n",
      "\n",
      "Result of a difference b (a-b) stored in e : {1, 2}\n",
      "\n",
      "\n",
      "Result of a symmetric_difference b (a^b) stored in f : {1, 2, 6, 7, 8}\n",
      "\n",
      "\n",
      "Result of a is subset of b stored in g : False\n",
      "\n",
      "\n",
      "Result of a is superset of b stored in h : False\n",
      "\n",
      "\n",
      "Result of a is disjoint of b stored in i : False\n",
      "\n",
      "----------------------------------------------------------------\n",
      "\n",
      "EQUALITY OF SETS\n",
      "\n",
      "SET x : {1, 2, 3}\n",
      "SET y : {1, 2, 3}\n",
      "SET z : {1, 2, 4}\n",
      "\n",
      "Sets are equaly if and only if their contents are equal\n",
      "\n",
      "SET x equals to SET y  True\n",
      "\n",
      "SET x equals to SET z  False\n"
     ]
    }
   ],
   "source": [
    "a={1,2,3,4,5}\n",
    "b={3,4,5,6,7,8}\n",
    "print(\"SET a : \",a)\n",
    "print(\"SET b : \",b)\n",
    "c=a.union(b)\n",
    "print(\"\\n\\nResult of a union b stored in c :\", c)\n",
    "\n",
    "\n",
    "d=a.intersection(b)\n",
    "print(\"\\n\\nResult of a intersection b stored in d :\", d)\n",
    "\n",
    "e=a.difference(b) \n",
    "print(\"\\n\\nResult of a difference b (a-b) stored in e :\",e)\n",
    "\n",
    "f=a.symmetric_difference(b) \n",
    "print(\"\\n\\nResult of a symmetric_difference b (a^b) stored in f :\",f)\n",
    "\n",
    "g=a.issubset(b) \n",
    "print(\"\\n\\nResult of a is subset of b stored in g :\",g)\n",
    "\n",
    "h=a.issuperset(b) \n",
    "print(\"\\n\\nResult of a is superset of b stored in h :\",h)\n",
    "\n",
    "i=a.isdisjoint(b)\n",
    "print(\"\\n\\nResult of a is disjoint of b stored in i :\",i,end=\"\\n\\n\")\n",
    "\n",
    "#equality in set\n",
    "print(\"----------------------------------------------------------------\\n\")\n",
    "print(\"EQUALITY OF SETS\\n\")\n",
    "x={1,2,3}\n",
    "y={3,2,1}\n",
    "z={1,2,4}\n",
    "print(\"SET x :\",x)\n",
    "print(\"SET y :\",y)\n",
    "print(\"SET z :\",z)\n",
    "\n",
    "print(\"\\nSets are equaly if and only if their contents are equal\")\n",
    "print(\"\\nSET x equals to SET y \",x==y)\n",
    "print(\"\\nSET x equals to SET z \",x==z)"
   ]
  },
  {
   "attachments": {
    "set1.png": {
     "image/png": "[encoded data removed]"
    }
   },
   "cell_type": "markdown",
   "id": "7fa721a1",
   "metadata": {},
   "source": [
    "## OTHER SET SUPPORTED FUNCTIONS\n",
    "![set1.png](attachment:set1.png)\n"
   ]
  },
  {
   "cell_type": "markdown",
   "id": "feb6deee",
   "metadata": {},
   "source": [
    "## LIST , Set and Dict Comprehension"
   ]
  },
  {
   "cell_type": "markdown",
   "id": "cf4aaace",
   "metadata": {},
   "source": [
    "### Syntax for list\n",
    "### [expr for val in collection if condition]"
   ]
  },
  {
   "cell_type": "code",
   "execution_count": 85,
   "id": "c0b1c4f6",
   "metadata": {},
   "outputs": [
    {
     "name": "stdout",
     "output_type": "stream",
     "text": [
      "converted in uppercase if length of words are > 2 : \n",
      " ['BAT', 'CAR', 'DOVE', 'PYTHON']\n"
     ]
    }
   ],
   "source": [
    "## example 1\n",
    "strings=['a','as','bat','car','dove','python']\n",
    "\n",
    "uperres=[x.upper() for x in strings if len(x)>2]\n",
    "print(\"converted in uppercase if length of words are > 2 : \\n\",uperres)"
   ]
  },
  {
   "cell_type": "markdown",
   "id": "5abcae14",
   "metadata": {},
   "source": [
    "### Syntax for dict\n",
    "### {key-expr :value-expr for values in collection if condition}"
   ]
  },
  {
   "cell_type": "code",
   "execution_count": 86,
   "id": "d4f9ae7e",
   "metadata": {},
   "outputs": [
    {
     "name": "stdout",
     "output_type": "stream",
     "text": [
      "{'a': 0, 'as': 1, 'bat': 2, 'car': 3, 'dove': 4, 'python': 5}\n"
     ]
    }
   ],
   "source": [
    "## example 2\n",
    "loc_mapping={val:index for index , val in enumerate(strings)}\n",
    "print(loc_mapping)"
   ]
  },
  {
   "cell_type": "markdown",
   "id": "d3346f45",
   "metadata": {},
   "source": [
    "### Syntax for set\n",
    "\n",
    "### set_comp={expr for value in collection if condition}"
   ]
  },
  {
   "cell_type": "code",
   "execution_count": 87,
   "id": "6f28ceca",
   "metadata": {},
   "outputs": [
    {
     "name": "stdout",
     "output_type": "stream",
     "text": [
      "{1, 2, 3, 4, 6}\n"
     ]
    }
   ],
   "source": [
    "unique_lengths={len(x) for x in strings}\n",
    "print(unique_lengths)"
   ]
  },
  {
   "cell_type": "markdown",
   "id": "a80f3466",
   "metadata": {},
   "source": [
    "### Nested Comprehension"
   ]
  },
  {
   "cell_type": "code",
   "execution_count": 88,
   "id": "9097dd22",
   "metadata": {},
   "outputs": [
    {
     "name": "stdout",
     "output_type": "stream",
     "text": [
      "['John', 'Emily', 'Michael', 'Mary', 'Steven', 'Maria', 'Juan', 'Javier', 'Natalia', 'Pilar']\n"
     ]
    }
   ],
   "source": [
    "all_data= [\n",
    "             ['John', 'Emily', 'Michael', 'Mary', 'Steven'],\n",
    "             ['Maria', 'Juan', 'Javier', 'Natalia', 'Pilar']\n",
    "            ]\n",
    "result=[name for names in all_data for name in names]\n",
    "print(result)"
   ]
  },
  {
   "cell_type": "code",
   "execution_count": 89,
   "id": "a7614421",
   "metadata": {},
   "outputs": [
    {
     "name": "stdout",
     "output_type": "stream",
     "text": [
      "[1, 2, 3, 4, 5, 6, 7, 8, 9]\n"
     ]
    }
   ],
   "source": [
    "some_tuples=[(1,2,3),(4,5,6),(7,8,9)]\n",
    "flattend=[x for tup in some_tuples for x in tup]\n",
    "print(flattend)"
   ]
  },
  {
   "cell_type": "code",
   "execution_count": null,
   "id": "fbe92897-a5c6-4915-bd52-c4bca3f91d99",
   "metadata": {},
   "outputs": [],
   "source": [
    "## intresting one creating nested list\n",
    "nested_res=[[x for x in tup] for tup in some_tuples]\n",
    "print(nested_res)"
   ]
  },
  {
   "cell_type": "markdown",
   "id": "0d968f95-55a2-4aef-a8da-32e341ceb467",
   "metadata": {},
   "source": [
    "#### BY Rohit"
   ]
  },
  {
   "cell_type": "code",
   "execution_count": null,
   "id": "cb3fb17a-5d25-45f7-a12d-3a6a359d4d54",
   "metadata": {},
   "outputs": [],
   "source": []
  }
 ],
 "metadata": {
  "kernelspec": {
   "display_name": "Python 3 (ipykernel)",
   "language": "python",
   "name": "python3"
  },
  "language_info": {
   "codemirror_mode": {
    "name": "ipython",
    "version": 3
   },
   "file_extension": ".py",
   "mimetype": "text/x-python",
   "name": "python",
   "nbconvert_exporter": "python",
   "pygments_lexer": "ipython3",
   "version": "3.11.4"
  }
 },
 "nbformat": 4,
 "nbformat_minor": 5
}
